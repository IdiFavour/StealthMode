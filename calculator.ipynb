def calculator(num1, num2, operator):
    # Check the operator and perform corresponding operation
    if operator == "+":
        # Addition
        return num1 + num2
    elif operator == "-":
        # Subtraction
        return num1 - num2
    elif operator == "*":
        # Multiplication
        return num1 * num2
    elif operator == "/":
        # Division
        if num2 == 0:
            return "Invalid operator: Division by zero"
        else:
            return num1 / num2
    else:
        # Invalid operator
        return "Invalid operator"



# pass in your arguments to the function
print(calculator(8,0,"/"))
