import unittest
from sortlist import sort_list


class TestSortList(unittest.TestCase):

    def test_asc_sort(self):
        # Test the ascending sort
        result = sort_list([3,1,2], "asc")
        self.assertEqual(result, [1, 2, 3])
    
    def test_desc_sort(self):
        # Test the descending sort
        result = sort_list([1,2,3], "desc")
        self.assertEqual(result, [3,2,1])
        
    def test_none_sort(self):
        # Test the none sort
        result = sort_list([1,2,3], "none")
        self.assertEqual(result, [1,2,3])
        
    def test_invalid_order(self):
        # Test the invalid order
        result = sort_list([1,2,3], "random_string")
        self.assertEqual(result, "Invalid order")
        
    def test_sort_empty_list(self):
        # Test sorting an empty list
        result = sort_list([], "asc")
        self.assertEqual(result, [])
        
    def test_sort_list_with_duplicate(self):
        # Test sorting a list with duplicate values
        result = sort_list([3,1,2,1], "desc")
        self.assertEqual(result, [3, 2, 1, 1])
    
    def test_sort_list_with_negative_numbers(self):
        # Test sorting a list with negative values
        result = sort_list([3,-1,2], "asc")
        self.assertEqual(result, [-1, 2, 3])

if __name__ == '__main__':
    unittest.main()

