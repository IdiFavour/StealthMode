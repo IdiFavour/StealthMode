import unittest
from calculator import calculator

class TestCalculator(unittest.TestCase):

    def test_addition(self):
        # Test the addition operation
        result = calculator(1, 2, "+")
        self.assertEqual(result, 3)
    
    def test_subtraction(self):
        # Test the subtraction operation
        result = calculator(4, 2, "-")
        self.assertEqual(result, 2)
    
    def test_multiplication(self):
        # Test the multiplication operation
        result = calculator(2, 3, "*")
        self.assertEqual(result, 6)
    
    def test_division(self):
        # Test the division operation
        result = calculator(8, 4, "/")
        self.assertEqual(result, 2)
        
    def test_division_by_zero(self):
        # Test the division by zero
        result = calculator(8, 0, "/")
        self.assertEqual(result, "Invalid operator: Division by zero")

    def test_invalid_operator(self):
        # Test the invalid operator
        result = calculator(8, 4, "&")
        self.assertEqual(result, "Invalid operator")

if __name__ == '__main__':
    unittest.main()
